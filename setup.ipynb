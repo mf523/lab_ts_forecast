{
 "cells": [
  {
   "cell_type": "markdown",
   "metadata": {},
   "source": [
    "## Download Data"
   ]
  },
  {
   "cell_type": "code",
   "execution_count": 2,
   "metadata": {
    "scrolled": true
   },
   "outputs": [
    {
     "name": "stdout",
     "output_type": "stream",
     "text": [
      "--2019-12-23 09:20:42--  https://sagemaker-us-west-2-169088282855.s3-us-west-2.amazonaws.com/miya/timeseries_raw.csv\n",
      "Resolving sagemaker-us-west-2-169088282855.s3-us-west-2.amazonaws.com (sagemaker-us-west-2-169088282855.s3-us-west-2.amazonaws.com)... 52.218.208.153\n",
      "Connecting to sagemaker-us-west-2-169088282855.s3-us-west-2.amazonaws.com (sagemaker-us-west-2-169088282855.s3-us-west-2.amazonaws.com)|52.218.208.153|:443... connected.\n",
      "HTTP request sent, awaiting response... 200 OK\n",
      "Length: 1060959 (1.0M) [text/csv]\n",
      "Saving to: ‘data/timeseries_raw.csv’\n",
      "\n",
      "data/timeseries_raw 100%[===================>]   1.01M  2.64MB/s    in 0.4s    \n",
      "\n",
      "2019-12-23 09:20:43 (2.64 MB/s) - ‘data/timeseries_raw.csv’ saved [1060959/1060959]\n",
      "\n",
      "--2019-12-23 09:20:43--  https://sagemaker-us-west-2-169088282855.s3-us-west-2.amazonaws.com/miya/shenzhen_weather.csv\n",
      "Resolving sagemaker-us-west-2-169088282855.s3-us-west-2.amazonaws.com (sagemaker-us-west-2-169088282855.s3-us-west-2.amazonaws.com)... 52.218.225.113\n",
      "Connecting to sagemaker-us-west-2-169088282855.s3-us-west-2.amazonaws.com (sagemaker-us-west-2-169088282855.s3-us-west-2.amazonaws.com)|52.218.225.113|:443... connected.\n",
      "HTTP request sent, awaiting response... 200 OK\n",
      "Length: 2461 (2.4K) [text/csv]\n",
      "Saving to: ‘data/shenzhen_weather.csv’\n",
      "\n",
      "data/shenzhen_weath 100%[===================>]   2.40K  --.-KB/s    in 0s      \n",
      "\n",
      "2019-12-23 09:20:43 (142 MB/s) - ‘data/shenzhen_weather.csv’ saved [2461/2461]\n",
      "\n"
     ]
    }
   ],
   "source": [
    "!mkdir -p data\n",
    "!wget -O data/timeseries_raw.csv https://sagemaker-us-west-2-169088282855.s3-us-west-2.amazonaws.com/miya/timeseries_raw.csv\n",
    "!wget -O data/shenzhen_weather.csv https://sagemaker-us-west-2-169088282855.s3-us-west-2.amazonaws.com/miya/shenzhen_weather.csv\n",
    "!wget -O data/is_weekend.csv https://sagemaker-us-west-2-169088282855.s3-us-west-2.amazonaws.com/miya/is_weekend.csv\n",
    "!wget -O data/cat.csv https://sagemaker-us-west-2-169088282855.s3-us-west-2.amazonaws.com/miya/cat.csv"
   ]
  },
  {
   "cell_type": "markdown",
   "metadata": {},
   "source": [
    "## Install packages"
   ]
  },
  {
   "cell_type": "code",
   "execution_count": 2,
   "metadata": {},
   "outputs": [
    {
     "name": "stdout",
     "output_type": "stream",
     "text": [
      "Requirement already up-to-date: pip in /home/ec2-user/.local/lib/python3.6/site-packages (19.3.1)\n",
      "Requirement already up-to-date: lightgbm in /home/ec2-user/.local/lib/python3.6/site-packages (2.3.1)\n",
      "Collecting python-decouple\n",
      "  Downloading https://files.pythonhosted.org/packages/c7/82/dd20cdca396f58be86c6e710a3958f4a34ca98c5dd3989ee978b6cb9f97e/python-decouple-3.3.tar.gz\n",
      "Requirement already satisfied, skipping upgrade: scikit-learn in /usr/lib64/python3.6/dist-packages (from lightgbm) (0.20.2)\n",
      "Requirement already satisfied, skipping upgrade: numpy in /usr/lib64/python3.6/dist-packages (from lightgbm) (1.17.3)\n",
      "Requirement already satisfied, skipping upgrade: scipy in /usr/lib64/python3.6/dist-packages (from lightgbm) (1.3.1)\n",
      "Building wheels for collected packages: python-decouple\n",
      "  Building wheel for python-decouple (setup.py) ... \u001b[?25ldone\n",
      "\u001b[?25h  Created wheel for python-decouple: filename=python_decouple-3.3-cp36-none-any.whl size=9024 sha256=4206cb15c0c15effa1ec6d9e80f20e4d271508273b29adf4b9ae753788237bc4\n",
      "  Stored in directory: /home/ec2-user/.cache/pip/wheels/f4/9b/79/5eec9ea205382552b014e749cb8a2b4ce0d6836a6f4db5ac0c\n",
      "Successfully built python-decouple\n",
      "Installing collected packages: python-decouple\n",
      "Successfully installed python-decouple-3.3\n"
     ]
    }
   ],
   "source": [
    "!pip3 install --upgrade --user pip lightgbm python-decouple"
   ]
  },
  {
   "cell_type": "code",
   "execution_count": null,
   "metadata": {},
   "outputs": [],
   "source": []
  }
 ],
 "metadata": {
  "kernelspec": {
   "display_name": "conda_python3",
   "language": "python",
   "name": "conda_python3"
  },
  "language_info": {
   "codemirror_mode": {
    "name": "ipython",
    "version": 3
   },
   "file_extension": ".py",
   "mimetype": "text/x-python",
   "name": "python",
   "nbconvert_exporter": "python",
   "pygments_lexer": "ipython3",
   "version": "3.6.5"
  }
 },
 "nbformat": 4,
 "nbformat_minor": 4
}
